{
  "cells": [
    {
      "attachments": {},
      "cell_type": "markdown",
      "metadata": {
        "tags": []
      },
      "source": [
        "# Transpose Notebook"
      ]
    },
    {
      "cell_type": "code",
      "execution_count": 17,
      "metadata": {
        "trusted": true
      },
      "outputs": [
        {
          "name": "stdout",
          "output_type": "stream",
          "text": [
            "Requirement already satisfied: requests in /opt/homebrew/lib/python3.11/site-packages (2.31.0)\n",
            "Requirement already satisfied: charset-normalizer<4,>=2 in /opt/homebrew/lib/python3.11/site-packages (from requests) (3.3.2)\n",
            "Requirement already satisfied: idna<4,>=2.5 in /opt/homebrew/lib/python3.11/site-packages (from requests) (3.6)\n",
            "Requirement already satisfied: urllib3<3,>=1.21.1 in /opt/homebrew/lib/python3.11/site-packages (from requests) (2.1.0)\n",
            "Requirement already satisfied: certifi>=2017.4.17 in /opt/homebrew/lib/python3.11/site-packages (from requests) (2023.11.17)\n",
            "\n",
            "\u001b[1m[\u001b[0m\u001b[34;49mnotice\u001b[0m\u001b[1;39;49m]\u001b[0m\u001b[39;49m A new release of pip is available: \u001b[0m\u001b[31;49m23.0.1\u001b[0m\u001b[39;49m -> \u001b[0m\u001b[32;49m23.3.2\u001b[0m\n",
            "\u001b[1m[\u001b[0m\u001b[34;49mnotice\u001b[0m\u001b[1;39;49m]\u001b[0m\u001b[39;49m To update, run: \u001b[0m\u001b[32;49mpython3.11 -m pip install --upgrade pip\u001b[0m\n",
            "Note: you may need to restart the kernel to use updated packages.\n"
          ]
        }
      ],
      "source": [
        "%pip install requests\n",
        "import requests"
      ]
    },
    {
      "cell_type": "markdown",
      "metadata": {},
      "source": [
        "### Configure API Key"
      ]
    },
    {
      "cell_type": "code",
      "execution_count": 18,
      "metadata": {
        "trusted": true
      },
      "outputs": [],
      "source": [
        "API_KEY = \"API_KEY\""
      ]
    },
    {
      "cell_type": "markdown",
      "metadata": {},
      "source": [
        "### Create SQL Query"
      ]
    },
    {
      "cell_type": "code",
      "execution_count": 19,
      "metadata": {
        "trusted": true
      },
      "outputs": [],
      "source": [
        "SQL_QUERY = \"\"\"\n",
        "SELECT  \n",
        "    *\n",
        "FROM\n",
        "    ethereum.blocks\n",
        "LIMIT 10\n",
        "\"\"\""
      ]
    },
    {
      "cell_type": "markdown",
      "metadata": {},
      "source": [
        "### Query SQL API"
      ]
    },
    {
      "cell_type": "code",
      "execution_count": 20,
      "metadata": {
        "trusted": true
      },
      "outputs": [],
      "source": [
        "import json"
      ]
    },
    {
      "cell_type": "code",
      "execution_count": 21,
      "metadata": {
        "trusted": true
      },
      "outputs": [
        {
          "name": "stdout",
          "output_type": "stream",
          "text": [
            "{'status': 'success', 'stats': {'count': 10, 'size': 9124, 'time': 1, 'truncated': False}, 'results': [{'block_number': 3, 'block_hash': '0x3d6122660cc824376f11ee842f83addc3525e2dd6756b9bcf0affa6aa88cf741', 'timestamp': '2015-07-30T15:27:28Z', 'parent_hash': '0xb495a1d7e6663152ae92708da4843337b958146015a2802f4193a410044698c9', 'mix_hash': '0x65e12eec23fe6555e6bcdb47aa25269ae106e5f16b54e1e92dcee25e1c8ad037', 'nonce': '0x2e9344e0cbde83ce', 'sha3_uncles': '0x6b17b938c6e4ef18b26ad81b9ca3515f27fd9c4e82aac56a1fd8eab288785e41', 'difficulty': 17154715646, 'total_difficulty': 68669161470, 'size_bytes': 1079, 'base_fee_per_gas': 0, 'gas_limit': 5000, 'gas_used': 0, 'total_fees_burned': 0, 'total_fees_rewarded': 0, 'total_fees_saved': 0, 'transaction_count': 0, 'miner_address': '0x5088D623ba0fcf0131E0897a91734A4D83596AA0', 'block_reward': 5000000000000000000, 'uncle_count': 1, 'uncle_1_address': '0xc8ebccC5F5689Fa8659d83713341e5aD19349448', 'uncle_1_reward': 3750000000000000000, 'uncle_2_address': None, 'uncle_2_reward': None, '__confirmed': True}, {'block_number': 43, 'block_hash': '0x3f46ac63f1fd838fa08b3d161912609f01ef85ff707747609f92e1df5a4ae364', 'timestamp': '2015-07-30T15:31:19Z', 'parent_hash': '0x74d74553948545d4754462d28d3fa4f8efb6f35e08559616df1c5c72695ae0b6', 'mix_hash': '0xf8d7ffdc086e2dd9edea2dcde5fd5bc40f65d70ed8d2a8819a017c1f474c4973', 'nonce': '0xd4957cb4b586e1bb', 'sha3_uncles': '0x1dcc4de8dec75d7aab85b567b6ccd41ad312451b948a7413f0a142fd40d49347', 'difficulty': 17424780027, 'total_difficulty': 759352581626, 'size_bytes': 544, 'base_fee_per_gas': 0, 'gas_limit': 5000, 'gas_used': 0, 'total_fees_burned': 0, 'total_fees_rewarded': 0, 'total_fees_saved': 0, 'transaction_count': 0, 'miner_address': '0xd7E30ae310C1D1800F5B641Baa7af95b2e1FD98C', 'block_reward': 5000000000000000000, 'uncle_count': 0, 'uncle_1_address': None, 'uncle_1_reward': None, 'uncle_2_address': None, 'uncle_2_reward': None, '__confirmed': True}, {'block_number': 83, 'block_hash': '0xa3ee1b6def05ceab6c35880a665164880d60637de471eda6a5aedf741b46eba3', 'timestamp': '2015-07-30T15:33:27Z', 'parent_hash': '0x8614615efab2d25eff18b1a339dd55c6aba83debffdaa07fae0901564e3f3d8c', 'mix_hash': '0x035635bf28c4b62ff4dad8e9b42bb5c34ee1823e569be7a01e8db0ae2a8aa79b', 'nonce': '0xef4b9d9e3fd34064', 'sha3_uncles': '0x302749772a4dfde4add0ee7dd7b0385e5cbbd7441fe8a39b6b17f61467ce7d04', 'difficulty': 17768368297, 'total_difficulty': 1463364992827, 'size_bytes': 1071, 'base_fee_per_gas': 0, 'gas_limit': 5000, 'gas_used': 0, 'total_fees_burned': 0, 'total_fees_rewarded': 0, 'total_fees_saved': 0, 'transaction_count': 0, 'miner_address': '0x28921e4e2C9d84F4c0f0C0cEb991f45751a0fe93', 'block_reward': 5000000000000000000, 'uncle_count': 1, 'uncle_1_address': '0x28921e4e2C9d84F4c0f0C0cEb991f45751a0fe93', 'uncle_1_reward': 3125000000000000000, 'uncle_2_address': None, 'uncle_2_reward': None, '__confirmed': True}, {'block_number': 123, 'block_hash': '0x37cb73b97d28b4c6530c925d669e4b0e07f16e4ff41f45d10d44f4c166d650e5', 'timestamp': '2015-07-30T15:34:52Z', 'parent_hash': '0x701bc7632e80976d1a2c408ffa58e4f11aa3ed3c5a030d1125930a9d944e4343', 'mix_hash': '0x2e4b92a11b1bac2a311f6a47006442bf1dc689e76c9c1fee90da56ff6f2df7a7', 'nonce': '0x18c851620e8d6cb6', 'sha3_uncles': '0x1dcc4de8dec75d7aab85b567b6ccd41ad312451b948a7413f0a142fd40d49347', 'difficulty': 18118731572, 'total_difficulty': 2181259381686, 'size_bytes': 542, 'base_fee_per_gas': 0, 'gas_limit': 5000, 'gas_used': 0, 'total_fees_burned': 0, 'total_fees_rewarded': 0, 'total_fees_saved': 0, 'transaction_count': 0, 'miner_address': '0xbb7B8287f3F0a933474a79eAe42CBCa977791171', 'block_reward': 5000000000000000000, 'uncle_count': 0, 'uncle_1_address': None, 'uncle_1_reward': None, 'uncle_2_address': None, 'uncle_2_reward': None, '__confirmed': True}, {'block_number': 163, 'block_hash': '0x4e7b20ff1bef7e7e5040ae42eed4a7bca042878def9b58dde49b06605188e844', 'timestamp': '2015-07-30T15:36:10Z', 'parent_hash': '0x5a72be254ee7bc4e72b9e97268eedefc140ce3de045fb1783b0f6384a92c1f0b', 'mix_hash': '0xc1a009f38c42271993c108f4b427017ee542d048fe4a7fb43a349e1d92999249', 'nonce': '0x395f5e16d3d5609b', 'sha3_uncles': '0x03a7d8f798b5ff4e934a9d7489a73bb3c5e0b66098d19006d27342e3d664b893', 'difficulty': 18476003440, 'total_difficulty': 2913309478290, 'size_bytes': 1078, 'base_fee_per_gas': 0, 'gas_limit': 5000, 'gas_used': 0, 'total_fees_burned': 0, 'total_fees_rewarded': 0, 'total_fees_saved': 0, 'transaction_count': 0, 'miner_address': '0xbb7B8287f3F0a933474a79eAe42CBCa977791171', 'block_reward': 5000000000000000000, 'uncle_count': 1, 'uncle_1_address': '0x28921e4e2C9d84F4c0f0C0cEb991f45751a0fe93', 'uncle_1_reward': 1875000000000000000, 'uncle_2_address': None, 'uncle_2_reward': None, '__confirmed': True}, {'block_number': 1, 'block_hash': '0x88e96d4537bea4d9c05d12549907b32561d3bf31f45aae734cdc119f13406cb6', 'timestamp': '2015-07-30T15:26:28Z', 'parent_hash': '0xd4e56740f876aef8c010b86a40d5f56745a118d0906a34e69aec8c0db1cb8fa3', 'mix_hash': '0x969b900de27b6ac6a67742365dd65f55a0526c41fd18e1b16f1a1215c2e66f59', 'nonce': '0x539bd4979fef1ec4', 'sha3_uncles': '0x1dcc4de8dec75d7aab85b567b6ccd41ad312451b948a7413f0a142fd40d49347', 'difficulty': 17171480576, 'total_difficulty': 34351349760, 'size_bytes': 537, 'base_fee_per_gas': 0, 'gas_limit': 5000, 'gas_used': 0, 'total_fees_burned': 0, 'total_fees_rewarded': 0, 'total_fees_saved': 0, 'transaction_count': 0, 'miner_address': '0x05a56E2D52c817161883f50c441c3228CFe54d9f', 'block_reward': 5000000000000000000, 'uncle_count': 0, 'uncle_1_address': None, 'uncle_1_reward': None, 'uncle_2_address': None, 'uncle_2_reward': None, '__confirmed': True}, {'block_number': 41, 'block_hash': '0x663b90888ed45a40fe29d275715ec74755f1aff628e6715bab56345e6573600f', 'timestamp': '2015-07-30T15:31:14Z', 'parent_hash': '0xc1579a13cfd2bd9050a5615968e1e9ccc3ba751b3343756851ece8d4a852d084', 'mix_hash': '0x2de9405a1b3e1ac30db98c02f61ae2532559cff80133044d5362dec11378a793', 'nonce': '0x3c04e6c73461164e', 'sha3_uncles': '0x1dcc4de8dec75d7aab85b567b6ccd41ad312451b948a7413f0a142fd40d49347', 'difficulty': 17407776096, 'total_difficulty': 724511525613, 'size_bytes': 544, 'base_fee_per_gas': 0, 'gas_limit': 5000, 'gas_used': 0, 'total_fees_burned': 0, 'total_fees_rewarded': 0, 'total_fees_saved': 0, 'transaction_count': 0, 'miner_address': '0x19dafe19F11E960E4cCfC6A5AA8890ebD748cA1E', 'block_reward': 5000000000000000000, 'uncle_count': 0, 'uncle_1_address': None, 'uncle_1_reward': None, 'uncle_2_address': None, 'uncle_2_reward': None, '__confirmed': True}, {'block_number': 81, 'block_hash': '0xcb56dc3a0b74cc674fa1ebc1bf12d0772b8de71aac77156c600342140433418d', 'timestamp': '2015-07-30T15:33:18Z', 'parent_hash': '0x16b4c82e2152c9812025b99424651367b3eec85768a693d66050cc7ff1ebae61', 'mix_hash': '0x76421a5746fb20ebc0f9c827f3bb370cf08fb1cfcf624359db14e0d0b9d0ef4f', 'nonce': '0x77151db9d7c65845', 'sha3_uncles': '0x1dcc4de8dec75d7aab85b567b6ccd41ad312451b948a7413f0a142fd40d49347', 'difficulty': 17751029077, 'total_difficulty': 1427836927959, 'size_bytes': 537, 'base_fee_per_gas': 0, 'gas_limit': 5000, 'gas_used': 0, 'total_fees_burned': 0, 'total_fees_rewarded': 0, 'total_fees_saved': 0, 'transaction_count': 0, 'miner_address': '0x28921e4e2C9d84F4c0f0C0cEb991f45751a0fe93', 'block_reward': 5000000000000000000, 'uncle_count': 0, 'uncle_1_address': None, 'uncle_1_reward': None, 'uncle_2_address': None, 'uncle_2_reward': None, '__confirmed': True}, {'block_number': 121, 'block_hash': '0xd40e1c39447844533017c427bf9bff8a9dbb680197b2f3738d734edc41ed480e', 'timestamp': '2015-07-30T15:34:46Z', 'parent_hash': '0xc78519d0cde92e421d2f8e304b31669fe0cec0a96490c2e208030ae9d35c9835', 'mix_hash': '0x957a7d625d777bde659b50d3c47e9f40eed2586657f9a5c92952ecac93b6ccbc', 'nonce': '0xf4c53a09a55e3a9c', 'sha3_uncles': '0x1dcc4de8dec75d7aab85b567b6ccd41ad312451b948a7413f0a142fd40d49347', 'difficulty': 18101050450, 'total_difficulty': 2145030761261, 'size_bytes': 537, 'base_fee_per_gas': 0, 'gas_limit': 5000, 'gas_used': 0, 'total_fees_burned': 0, 'total_fees_rewarded': 0, 'total_fees_saved': 0, 'transaction_count': 0, 'miner_address': '0x28921e4e2C9d84F4c0f0C0cEb991f45751a0fe93', 'block_reward': 5000000000000000000, 'uncle_count': 0, 'uncle_1_address': None, 'uncle_1_reward': None, 'uncle_2_address': None, 'uncle_2_reward': None, '__confirmed': True}, {'block_number': 161, 'block_hash': '0x1009ce24fc07382f2750f9726133d8eaa7ac5797b42fb328abe84d633b0edd08', 'timestamp': '2015-07-30T15:36:04Z', 'parent_hash': '0x21603f429f01be3706338a5b3bd6ecea1833ba0963fc492d20b5911c09ca4594', 'mix_hash': '0xb52c3e7c3bf1c928f65242d04218a9ce0b91a0af32fba6a767a6d8a74dd48cbc', 'nonce': '0x7244c989e857d555', 'sha3_uncles': '0x1dcc4de8dec75d7aab85b567b6ccd41ad312451b948a7413f0a142fd40d49347', 'difficulty': 18457973675, 'total_difficulty': 2876366488493, 'size_bytes': 543, 'base_fee_per_gas': 0, 'gas_limit': 5000, 'gas_used': 0, 'total_fees_burned': 0, 'total_fees_rewarded': 0, 'total_fees_saved': 0, 'transaction_count': 0, 'miner_address': '0xbb7B8287f3F0a933474a79eAe42CBCa977791171', 'block_reward': 5000000000000000000, 'uncle_count': 0, 'uncle_1_address': None, 'uncle_1_reward': None, 'uncle_2_address': None, 'uncle_2_reward': None, '__confirmed': True}]}\n"
          ]
        }
      ],
      "source": [
        "headers = {\n",
        "    'Content-Type': 'application/json',\n",
        "    'X-API-KEY': API_KEY,\n",
        "}\n",
        "\n",
        "body = {\n",
        "    'sql': SQL_QUERY,\n",
        "    'parameters': {},\n",
        "    'options': {},\n",
        "}\n",
        "\n",
        "response = requests.post('https://api.transpose.io/sql', headers=headers, data=json.dumps(body))\n",
        "response_data = response.json()\n",
        "print(response_data)"
      ]
    }
  ],
  "metadata": {
    "kernelspec": {
      "display_name": "Python 3",
      "language": "python",
      "name": "python3"
    },
    "language_info": {
      "codemirror_mode": {
        "name": "ipython",
        "version": 3
      },
      "file_extension": ".py",
      "mimetype": "text/x-python",
      "name": "python",
      "nbconvert_exporter": "python",
      "pygments_lexer": "ipython3",
      "version": "3.11.3"
    },
    "orig_nbformat": 4
  },
  "nbformat": 4,
  "nbformat_minor": 4
}
