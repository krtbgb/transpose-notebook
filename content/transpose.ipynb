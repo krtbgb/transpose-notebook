{
 "cells": [
  {
   "cell_type": "code",
   "execution_count": null,
   "metadata": {
    "vscode": {
     "languageId": "plaintext"
    }
   },
   "outputs": [],
   "source": [
    "# Cell to input API key\n",
    "api_key = input(\"Enter API Key: \")"
   ]
  },
  {
   "cell_type": "code",
   "execution_count": null,
   "metadata": {
    "vscode": {
     "languageId": "plaintext"
    }
   },
   "outputs": [],
   "source": [
    "# Cell to input SQL query\n",
    "sql_query = input(\"Enter SQL Query: \")"
   ]
  },
  {
   "cell_type": "code",
   "execution_count": null,
   "metadata": {
    "vscode": {
     "languageId": "plaintext"
    }
   },
   "outputs": [],
   "source": [
    "import requests\n",
    "import json\n",
    "\n",
    "def execute_sql(api_key, sql_query):\n",
    "    headers = {\n",
    "        'Content-Type': 'application/json',\n",
    "        'X-API-KEY': api_key,\n",
    "    }\n",
    "\n",
    "    json_data = {\n",
    "        'sql': sql_query,\n",
    "        'parameters': {},\n",
    "        'options': {},\n",
    "    }\n",
    "\n",
    "    response = requests.post('https://api.transpose.io/sql', headers=headers, json=json_data)\n",
    "    if response.status_code == 200:\n",
    "        return response.json()\n",
    "    else:\n",
    "        return response.text"
   ]
  },
  {
   "cell_type": "code",
   "execution_count": null,
   "metadata": {
    "vscode": {
     "languageId": "plaintext"
    }
   },
   "outputs": [],
   "source": [
    "# Cell to execute the function and display the result\n",
    "result = execute_sql(api_key, sql_query)\n",
    "print(json.dumps(result, indent=4))\n"
   ]
  }
 ],
 "metadata": {
  "language_info": {
   "name": "python"
  }
 },
 "nbformat": 4,
 "nbformat_minor": 2
}
